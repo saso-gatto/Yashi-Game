{
  "nbformat": 4,
  "nbformat_minor": 0,
  "metadata": {
    "colab": {
      "provenance": [],
      "authorship_tag": "ABX9TyPX1G/1b64UmhT5awwFQ0O7",
      "include_colab_link": true
    },
    "kernelspec": {
      "name": "python3",
      "display_name": "Python 3"
    },
    "language_info": {
      "name": "python"
    }
  },
  "cells": [
    {
      "cell_type": "markdown",
      "metadata": {
        "id": "view-in-github",
        "colab_type": "text"
      },
      "source": [
        "<a href=\"https://colab.research.google.com/github/saso-gatto/Yashi-Game/blob/main/KN_YashiGame.ipynb\" target=\"_parent\"><img src=\"https://colab.research.google.com/assets/colab-badge.svg\" alt=\"Open In Colab\"/></a>"
      ]
    },
    {
      "cell_type": "markdown",
      "source": [
        "**Yashi Game**\n",
        "\n",
        "Project for \"Knowledge Representation and Learning\" course at University of Padua.\n",
        "\n",
        "Salvatore Gatto, 2044587\n"
      ],
      "metadata": {
        "id": "TjPCWdn8OKvT"
      }
    },
    {
      "cell_type": "markdown",
      "source": [
        "**The Game**\n",
        "\n",
        "An instance of the Yashi game is specifid by a n × n integer grid for some n > 2, on which p > 2 nodes are placed. A solution of the game consists in drawing horizontal and vertical segments, satisfying the following conditions:\n",
        "1. No two segments cross each other.\n",
        "2. The segments form a tree, i.e., they form a graph without cycles. Put differently\n",
        "still, for every two nodes a and b there is exactly one path between a and b\n",
        "\n",
        "**Rules in details**\n",
        "\n",
        "In Yashi Games, you can connect any two dots by using a single horizontal or single vertical line. You cannot use any diagonal lines or curved lines, and you cannot connect two dots with a path that has angles or corners. No L-shapes, no Z-shapes, just single straight lines. Each dot may be connected to 1, 2, 3 or 4 other dots, either horizontally, vertically or both. Your lines cannot cross each other, and they cannot pass through other dots, or go on top of other lines. \n",
        "\n",
        "![Yashi.png](data:image/png;base64,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)\n"
      ],
      "metadata": {
        "id": "r547EyiwOil0"
      }
    },
    {
      "cell_type": "markdown",
      "source": [
        "**SAT PROJECT**\n",
        "\n",
        "Given an instance G of Yashi, develop a SAT based method to answer the following questions:\n",
        "1. Decide if there is a solution for G. If there is, return one solution.\n",
        "2. Decide if there is a solution for G. If there is, return a minimum-length solution.\n",
        "\n",
        "Idea: riprodurre un sistema di assi cartesiani X,Y."
      ],
      "metadata": {
        "id": "itmmyRZvRRm-"
      }
    },
    {
      "cell_type": "code",
      "execution_count": 255,
      "metadata": {
        "colab": {
          "base_uri": "https://localhost:8080/"
        },
        "id": "YASUoQt6OIhR",
        "outputId": "7596dbf0-8b81-408f-be16-c831bc5dde08"
      },
      "outputs": [
        {
          "output_type": "stream",
          "name": "stdout",
          "text": [
            "Looking in indexes: https://pypi.org/simple, https://us-python.pkg.dev/colab-wheels/public/simple/\n",
            "Requirement already satisfied: python-sat in /usr/local/lib/python3.10/dist-packages (0.1.8.dev4)\n",
            "Requirement already satisfied: six in /usr/local/lib/python3.10/dist-packages (from python-sat) (1.16.0)\n"
          ]
        }
      ],
      "source": [
        "!pip install python-sat"
      ]
    },
    {
      "cell_type": "code",
      "source": [
        "from pysat.formula import WCNF,CNF\n",
        "from pysat.solvers import Minisat22\n",
        "from pysat.examples.fm import FM\n",
        "\n",
        "from itertools import chain\n",
        "from collections import defaultdict, deque\n",
        "from io import StringIO\n",
        "from typing import List, Set, Dict, NewType, Tuple\n",
        "import random\n",
        "import math\n",
        "import matplotlib.pyplot as plt"
      ],
      "metadata": {
        "id": "Bm-qVuleRcSW"
      },
      "execution_count": 256,
      "outputs": []
    },
    {
      "cell_type": "code",
      "source": [
        "class Point:\n",
        "  def __init__ (self, x:float, y:float):\n",
        "    self.x = x\n",
        "    self.y =y\n",
        "\n",
        "  def get_x(self):\n",
        "    return self.x\n",
        "\n",
        "  def get_y(self):\n",
        "    return self.y\n",
        "\n",
        "  def set_x(self, x:float):\n",
        "    self.x = x\n",
        "  \n",
        "  def set_y(self, y:float):\n",
        "    self.y = y\n",
        "\n",
        "  def __repr__(self):\n",
        "    return \"(\"+str(self.x)+\",\"+str(self.y)+\")\"\n",
        "\n",
        "  def __str__(self) -> str:\n",
        "    return \"(\"+str(self.x)+\",\"+str(self.y)+\")\"\n",
        "\n",
        "  def __eq__(self, other):\n",
        "    if isinstance(other, Point):\n",
        "      return self.x == other.x and self.y == other.y\n",
        "    return False"
      ],
      "metadata": {
        "id": "HOFbT_qJSHUp"
      },
      "execution_count": 257,
      "outputs": []
    },
    {
      "cell_type": "code",
      "source": [
        "class Line:\n",
        "  def __init__(self,p1,p2):\n",
        "    self.p1 = p1\n",
        "    self.p2 = p2\n",
        "\n",
        "  def get_p1(self):\n",
        "    return self.p1\n",
        "  \n",
        "  def get_p2(self):\n",
        "    return self.p2\n",
        "\n",
        "  def set_p1 (self,p):\n",
        "    self.p1 = p\n",
        "  \n",
        "  def set_p2 (self,p):\n",
        "    self.p2 = p\n",
        "  \n",
        "  def print(self):\n",
        "    print(f\"{self.p1} ----- {self.p2}\")\n",
        "\n",
        "  def __repr__(self):\n",
        "    return \"(\"+str(self.p1)+\",\"+str(self.p2)+\")\"\n",
        "\n",
        "  def __str__(self) -> str:\n",
        "    return \"(\"+str(self.p1)+\",\"+str(self.p2)+\")\"\n",
        "\n",
        "  "
      ],
      "metadata": {
        "id": "7sddHi9GYf8d"
      },
      "execution_count": 258,
      "outputs": []
    },
    {
      "cell_type": "code",
      "source": [
        "# Creation of 3 dots such as (0,2), (4,2), (0,5)\n",
        "p1 = Point (0,2) \n",
        "p2 = Point (4,2)\n",
        "p3 = Point(0,5)"
      ],
      "metadata": {
        "id": "wVN-KW2zY1Ck"
      },
      "execution_count": 259,
      "outputs": []
    },
    {
      "cell_type": "code",
      "source": [
        "first_line = Line(p1,p2)\n",
        "first_line.print()"
      ],
      "metadata": {
        "colab": {
          "base_uri": "https://localhost:8080/"
        },
        "id": "n6U92E7bZNPm",
        "outputId": "bf3ff6df-c918-473a-8af0-38d269f0bf9f"
      },
      "execution_count": 260,
      "outputs": [
        {
          "output_type": "stream",
          "name": "stdout",
          "text": [
            "(0,2) ----- (4,2)\n"
          ]
        }
      ]
    },
    {
      "cell_type": "code",
      "source": [
        "def plot_graph(points, lines):\n",
        "  # Create a figure and axis\n",
        "  fig, ax = plt.subplots()\n",
        "\n",
        "  # Set the range of x and y values\n",
        "  x_values = range(0, 11)\n",
        "  y_values = range(0, 11)\n",
        "\n",
        "  # Set the x and y axis limits with offset\n",
        "  ax.set_xlim(0, 11)\n",
        "  ax.set_ylim(0, 11)\n",
        "\n",
        "  # Set the x and y axis labels\n",
        "  ax.set_xlabel('X')\n",
        "  ax.set_ylabel('Y')\n",
        "\n",
        "  # Set the aspect ratio to 'equal' for a square plot\n",
        "  ax.set_aspect('equal')\n",
        "\n",
        "  # Add grid lines\n",
        "  ax.set_xticks(x_values)\n",
        "  ax.set_yticks(y_values)\n",
        "  ax.grid(True, which='both')\n",
        "\n",
        "  for point in (points):\n",
        "    # Add a point at (3, 4) with red color\n",
        "    ax.scatter(point.x, point.y, color='red')\n",
        "  \n",
        "  for line in (lines.values()):\n",
        "    #print(\"---- Current line -----\")\n",
        "    #print(line.get_p1())\n",
        "    #print(line.get_p2())\n",
        "    # Plot a line segment between the two points\n",
        "    x1 = line.get_p1().x\n",
        "    x2 = line.get_p2().x\n",
        "    y1 = line.get_p1().y\n",
        "    y2 = line.get_p2().y\n",
        "    ax.plot([x1,x2], [y1,y2], color='blue')\n",
        "\n",
        "\n",
        "  # Show the plot\n",
        "  plt.show()"
      ],
      "metadata": {
        "id": "jzLs0MFtX63C"
      },
      "execution_count": 261,
      "outputs": []
    },
    {
      "cell_type": "code",
      "source": [
        "# Creation of 3 dots such as (0,2), (4,2), (0,5)\n",
        "p1 = Point (1,3) \n",
        "p2 = Point (8,3)\n",
        "p3 = Point(1,7)\n",
        "p4 = Point (5,7)\n",
        "p5 = Point (5,5)\n",
        "p6 = Point (8,5)\n",
        "\n",
        "points = [p1,p2,p3,p4,p5,p6]\n",
        "first_line = Line(p1,p2)\n",
        "second_line = Line(p1,p3)\n",
        "lines = defaultdict()\n",
        "lines[1] = first_line\n",
        "lines[2] = second_line\n",
        "\n",
        "plot_graph(points,lines)"
      ],
      "metadata": {
        "id": "WAzPQ3wGYj9G",
        "outputId": "31c55d6b-12cf-491c-8b96-95820da6b1fe",
        "colab": {
          "base_uri": "https://localhost:8080/",
          "height": 449
        }
      },
      "execution_count": 262,
      "outputs": [
        {
          "output_type": "display_data",
          "data": {
            "text/plain": [
              "<Figure size 640x480 with 1 Axes>"
            ],
            "image/png": "[encoded data removed]"
          },
          "metadata": {}
        }
      ]
    },
    {
      "cell_type": "code",
      "source": [
        "points = []\n",
        "for i in range(5):\n",
        "  x = random.randint(1,9)\n",
        "  y = random.randint(1,9)\n",
        "  p = Point(x,y)\n",
        "  print(p)\n",
        "  points.append(p)\n",
        "\n",
        "plot_graph(points,{})"
      ],
      "metadata": {
        "colab": {
          "base_uri": "https://localhost:8080/",
          "height": 536
        },
        "id": "tEIQp613NXyM",
        "outputId": "c240d72d-8855-4a67-cebe-f96f003285b1"
      },
      "execution_count": 263,
      "outputs": [
        {
          "output_type": "stream",
          "name": "stdout",
          "text": [
            "(2,9)\n",
            "(9,3)\n",
            "(6,9)\n",
            "(4,9)\n",
            "(7,9)\n"
          ]
        },
        {
          "output_type": "display_data",
          "data": {
            "text/plain": [
              "<Figure size 640x480 with 1 Axes>"
            ],
            "image/png": "[encoded data removed]"
          },
          "metadata": {}
        }
      ]
    },
    {
      "cell_type": "markdown",
      "source": [
        "# **Graph**\n",
        "\n",
        "By following the explaination contained on the [paper](https://www.cs.bu.edu/faculty/kfoury/UNI-Teaching/CS512/AK_Documents/Modeling-with-PL/main.pdf) provided by the professor, my idea is to build a graph using the points of yashi game and check whether the following graph is connected or not.\n",
        "\n",
        "So, let's first create a class Graph, and then a method to check this property.\n",
        "The best way to represent a graph is to use the adjacency matrix.\n",
        "\n",
        "**Graph data structure**\n",
        "\n",
        "\n",
        "We implemented a class Graph in the following way:\n",
        "* self.V: list of vertices of the graph.\n",
        "* self.E: dictionary representing the edges of the graph. The keys of the dictionary are the tuples of the adjacent nodes (v1,v2) and the values are the respective weights.\n",
        "* self.adjacency_list: default dictionary to represent the graph as an adjacency\n",
        "list.\n",
        "\n",
        "The class Graph also contains the following methods:\n",
        "* def add_vertex(self,v): the method adds the vertex “v” to the list of vertices of the graph.\n",
        "* def remove_vertex(self,v): the method removes the vertex “v” from the list of\n",
        "vertices of the graph.\n",
        "* def add_edge(self, source_node, destination_node, weight): the method adds\n",
        "the edge (source_node, destination_node) with its weight to the dictionary\n",
        "graph.E. If source_node and destination_node are not inside the list of the\n",
        "vertices of the Graph, the method also updates the variable self.V. The graph is\n",
        "also updated appending the new edge to the adjacency list.\n",
        "\n",
        "* def get_edge(self,v1,v2): the method returns the weight of the edge (v1,v2) by\n",
        "accessing the dictionary graph.E"
      ],
      "metadata": {
        "id": "DEGOLeixSOEq"
      }
    },
    {
      "cell_type": "code",
      "source": [
        "class Graph():\n",
        "  def __init__ (self):\n",
        "    self.V = []\n",
        "    self.E= []\n",
        "    self.adjacency_list = defaultdict(list)\n",
        "\n",
        "  def add_vertex(self,v):\n",
        "    if v not in self.V:\n",
        "      self.V.append(v)\n",
        "\n",
        "  def remove_vertex (self,v):\n",
        "    self.V.remove(v)\n",
        "\n",
        "  def add_edge(self, source_node, destination_node, weight):\n",
        "    # First case\n",
        "    # We add the source and the destination node only if the are not already present\n",
        "    if (source_node not in self.V):\n",
        "      self.V.append(source_node)\n",
        "    \n",
        "    if (destination_node not in self.V):\n",
        "      self.V.append(destination_node)\n",
        "    \n",
        "    # Now we can add the edge\n",
        "    edge = (source_node, destination_node, weight)\n",
        "    self.E.append(edge)\n",
        "\n",
        "    # Now we update the graph\n",
        "    self.adjacency_list[source_node].append((destination_node,weight))\n",
        "    #if (source_node != destination_node):\n",
        "    #  self.adjacency_list[destination_node].append((source_node,weight))\n",
        "\n",
        "  def get_vertices(self):\n",
        "    return self.V\n",
        "\n",
        "  def get_adjacency_list(self):\n",
        "    return self.adjacency_list\n",
        "\n",
        "  def get_edges(self):\n",
        "    return self.E\n",
        "\n",
        "  def get_edge(self, v1,v2):\n",
        "    if((v1,v2) in self.E):\n",
        "      return self.E.get((v1,v2))\n",
        "    else:\n",
        "      return self.E.get((v2,v1))\n",
        "\n",
        "  def sort_edges(self):\n",
        "    self.E.sort(key=lambda x:x[2])\n",
        "\n",
        "  def is_connect(self):\n",
        "    visited = set()\n",
        "\n",
        "    # We start from the first vertex\n",
        "    start_vertex = self.V[0]\n",
        "    self.dfs(start_vertex,visited)\n",
        "    print(f\"visited vertices: \", visited)\n",
        "    \n",
        "    print(f\"All vertices of the graph: \",self.V)\n",
        "    # If all vertices have been visited, it is connected\n",
        "    return len(visited) == len(self.V) \n",
        "\n",
        "  def dfs(self,vertex,visited):\n",
        "    visited.add(vertex)\n",
        "\n",
        "    for neighbor,_ in self.adjacency_list[vertex]:\n",
        "      if neighbor not in visited:\n",
        "        self.dfs(neighbor,visited)\n"
      ],
      "metadata": {
        "id": "iHd2B5atS6HE"
      },
      "execution_count": 264,
      "outputs": []
    },
    {
      "cell_type": "code",
      "source": [
        "class DisjointSet:\n",
        "    def __init__(self, size):\n",
        "      self.parent = [math.inf]\n",
        "      self.rank = [0]\n",
        "      for node in range(size):\n",
        "        self.parent.append(node+1)\n",
        "        self.rank.append(1)\n",
        "\n",
        "    # starting from destination_node's position, it traverses parent edges until reaching a position\n",
        "    # such that parent(destination_node) = destination_node \n",
        "    def find(self, destination_node): \n",
        "      if self.parent[destination_node] == destination_node:\n",
        "        return destination_node\n",
        "      return self.find(self.parent[destination_node])\n",
        "\n",
        "    # unites two sets by setting new roots to source_node and destination_node\n",
        "    def union(self, source_node, destination_node):\n",
        "      u_root = self.find(source_node)\n",
        "      v_root = self.find(destination_node)\n",
        "\n",
        "      # Do nothing\n",
        "      if (u_root == v_root):\n",
        "        return \n",
        "\n",
        "      if self.rank[u_root] < self.rank[v_root]:\n",
        "        self.parent[u_root] = v_root\n",
        "        self.rank[v_root] += self.rank[u_root]\n",
        "      elif self.rank[u_root] > self.rank[v_root]:\n",
        "        self.parent[v_root] = u_root\n",
        "        self.rank[u_root]+=self.rank[v_root]\n",
        "      else:\n",
        "        self.parent[v_root] = u_root\n",
        "        self.rank[u_root] += 1\n",
        "\n",
        "def KruskalUnionFind(G):\n",
        "  mst = []\n",
        "  U = DisjointSet(10)\n",
        "  G.sort_edges()\n",
        "  for edge in G.E:\n",
        "    src = edge[0]\n",
        "    dest = edge[1]\n",
        "    weight = edge[2]\n",
        "    # checks the two vertices are in two different connected components so to avoid cycles\n",
        "    if (U.find(src) != U.find(dest)): \n",
        "      mst.append((src,dest,weight)) # if so, we add them into our mst\n",
        "      U.union(src,dest) # we update the union find data structure\n",
        "  return mst\n",
        "\n",
        "     \n"
      ],
      "metadata": {
        "id": "TCSztl_Fmw44"
      },
      "execution_count": 265,
      "outputs": []
    },
    {
      "cell_type": "code",
      "source": [
        "# First, initialize the game putting as many lines as possible in the graph.\n",
        "# In our case, we'll put lines which respect the condition of the game, \n",
        "# therefore no lines in diagonal, but only vertical or horizontal.\n",
        "\n",
        "# Method to not add twice the same edge\n",
        "def exists_edge(lines,new_line):\n",
        "  for line in lines.values():\n",
        "    p1 = line.get_p1()\n",
        "    p2 = line.get_p2()\n",
        "    #print(f\"p1: {p1}, p2: {p2}, new_line: {new_line}\")\n",
        "    if (p1 == new_line.get_p2() and p2==new_line.get_p1()):\n",
        "      return True\n",
        "  return False\n",
        "\n",
        "def no_overlaps_edge(graph, vertices, line):\n",
        "    if line.get_p1().get_x() < line.get_p2().get_x():\n",
        "      x1,x2 = line.get_p1().get_x(),line.get_p2().get_x()\n",
        "    else:\n",
        "      x1,x2 = line.get_p2().get_x(),line.get_p1().get_x()\n",
        "\n",
        "    if line.get_p1().get_y() < line.get_p2().get_y():\n",
        "      y1,y2 = line.get_p1().get_y(),line.get_p2().get_y()\n",
        "    else:\n",
        "      y1,y2 = line.get_p2().get_y(),line.get_p1().get_y()\n",
        "    \n",
        "    \n",
        "\n",
        "    for edge in graph.get_edges():\n",
        "        first_point = vertices[edge[0]]\n",
        "        second_point = vertices[edge[1]]\n",
        "\n",
        "        # Horizontal case\n",
        "        if y1 == y2 and y1 == first_point.get_y() and y1 == second_point.get_y():\n",
        "            print(f\"I want to add the edges: {line}\")\n",
        "            print(f\"Horizontal case: {y1}, first_point {first_point}, second_point{second_point}.\")\n",
        "            if x1 <= first_point.get_x() and second_point.get_x()<=x2 and first_point.get_x() < second_point.get_x():\n",
        "                return True  # Overlaps\n",
        "            elif x1 <= second_point.get_x() and  first_point.get_x()<=x2 and first_point.get_x() > second_point.get_x():\n",
        "              return True\n",
        "        # Vertical case\n",
        "        elif x1 == x2 and x1 == first_point.get_x() and x1 == second_point.get_x():\n",
        "            if y1 >= first_point.get_y() and y2 <= second_point.get_y() and first_point.get_y() < second_point.get_y():\n",
        "                return True  # Overlaps\n",
        "\n",
        "    return False  # No overlaps found\n",
        "def print_vertices_edges(graph,vertices):\n",
        "  # Method to print the edges for each vertex\n",
        "  index_keys = graph.get_adjacency_list().keys()\n",
        "  print(index_keys)\n",
        "  for i in index_keys:\n",
        "    linked_nodes = graph.get_adjacency_list().get(i)\n",
        "    for j in range (len(linked_nodes)):\n",
        "      print(f\"{vertices[i]} ----- {vertices[linked_nodes[j][0]]}\")\n",
        "      #print(linked_nodes[j])\n",
        "\n",
        "def initialize_graph(points):\n",
        "  vertices = {}\n",
        "  for index in range(len(points)):\n",
        "    vertices[index+1] = points[index]\n",
        "  \n",
        "  #plot_graph([p for p in points],{})\n",
        "  #print(vertices)\n",
        "  graph = Graph()\n",
        "\n",
        "  for i in vertices.keys():\n",
        "    graph.add_vertex(i)\n",
        "  lines = {}\n",
        "  current_index = 1\n",
        "\n",
        "  for i in range(len(points)):\n",
        "    # points is a list of tuple \n",
        "    first_node = i+1\n",
        "    source_node = points[i]\n",
        "    #print(source_node)\n",
        "    for j in range(i+1,len(points)):\n",
        "      final_node = j+1\n",
        "      destination_node = points[j]\n",
        "      if (source_node.x == destination_node.x and source_node.y!=destination_node.y) or (source_node.y==destination_node.y and source_node.x!=destination_node.x):\n",
        "      #print(f\"I'm adding the following edge: {source_node} -- {destination_node}\")\n",
        "        line = Line(source_node,destination_node)\n",
        "        if not exists_edge(lines, line) and not no_overlaps_edge(graph, vertices, line):\n",
        "          lines[current_index] = line\n",
        "          current_index = current_index+1\n",
        "          graph.add_edge(first_node,final_node,1)\n",
        "\n",
        "  print(graph.get_adjacency_list())\n",
        "  plot_graph([p for p in points],lines)\n",
        "  print(graph.get_edges())\n",
        "\n",
        "  return graph,vertices,lines\n",
        "\n",
        "\n",
        "p1 = Point(1,1)\n",
        "p2 = Point (3,1)\n",
        "p3 = Point (3,2)\n",
        "p4 = Point (6,2)\n",
        "p5 = Point (3,6)\n",
        "p6 = Point (2,8)\n",
        "p7 = Point (8,7)\n",
        "p8 = Point (8,2)\n",
        "p9 = Point (2,5)\n",
        "p10 = Point(9,5)\n",
        "points = [p1,p2,p3,p4,p5,p6,p7,p8,p9,p10]\n",
        "print(points)\n",
        "graph,vertices,lines = initialize_graph(points)"
      ],
      "metadata": {
        "colab": {
          "base_uri": "https://localhost:8080/",
          "height": 571
        },
        "id": "EWlEBvU827xm",
        "outputId": "59e907b9-9ee6-486d-98b2-8596c89475f6"
      },
      "execution_count": 266,
      "outputs": [
        {
          "output_type": "stream",
          "name": "stdout",
          "text": [
            "[(1,1), (3,1), (3,2), (6,2), (3,6), (2,8), (8,7), (8,2), (2,5), (9,5)]\n",
            "I want to add the edges: ((3,2),(8,2))\n",
            "Horizontal case: 2, first_point (3,2), second_point(6,2).\n",
            "I want to add the edges: ((6,2),(8,2))\n",
            "Horizontal case: 2, first_point (3,2), second_point(6,2).\n",
            "defaultdict(<class 'list'>, {1: [(2, 1)], 2: [(3, 1), (5, 1)], 3: [(4, 1)], 4: [(8, 1)], 6: [(9, 1)], 7: [(8, 1)], 9: [(10, 1)]})\n"
          ]
        },
        {
          "output_type": "display_data",
          "data": {
            "text/plain": [
              "<Figure size 640x480 with 1 Axes>"
            ],
            "image/png": "[encoded data removed]"
          },
          "metadata": {}
        },
        {
          "output_type": "stream",
          "name": "stdout",
          "text": [
            "[(1, 2, 1), (2, 3, 1), (2, 5, 1), (3, 4, 1), (4, 8, 1), (6, 9, 1), (7, 8, 1), (9, 10, 1)]\n"
          ]
        }
      ]
    },
    {
      "cell_type": "code",
      "source": [
        "print_vertices_edges(graph,vertices)"
      ],
      "metadata": {
        "colab": {
          "base_uri": "https://localhost:8080/"
        },
        "id": "Jtr2XnIrvTzm",
        "outputId": "792e5889-3c9d-4367-c860-fabde6501e5b"
      },
      "execution_count": 267,
      "outputs": [
        {
          "output_type": "stream",
          "name": "stdout",
          "text": [
            "dict_keys([1, 2, 3, 4, 6, 7, 9])\n",
            "(1,1) ----- (3,1)\n",
            "(3,1) ----- (3,2)\n",
            "(3,1) ----- (3,6)\n",
            "(3,2) ----- (6,2)\n",
            "(6,2) ----- (8,2)\n",
            "(2,8) ----- (2,5)\n",
            "(8,7) ----- (8,2)\n",
            "(2,5) ----- (9,5)\n"
          ]
        }
      ]
    },
    {
      "cell_type": "code",
      "source": [
        "def get_MST(graph):\n",
        "  if (graph.is_connect()):\n",
        "    tree = KruskalUnionFind(graph)\n",
        "    mst_lines = {}\n",
        "    current_index = 1\n",
        "    for i in range(len(tree)):\n",
        "      source_node = vertices[tree[i][0]]\n",
        "      destination_node = vertices[tree[i][1]]\n",
        "      current_line = Line(source_node,destination_node)\n",
        "      mst_lines[current_index] = current_line\n",
        "      current_index = current_index+1\n",
        "    plot_graph([p for p in points],mst_lines)\n",
        "  else:\n",
        "    print(\"+++++++++++ GRAPH IS NOT CONNECTED +++++++++++\")\n",
        "\n",
        "get_MST(graph)"
      ],
      "metadata": {
        "colab": {
          "base_uri": "https://localhost:8080/",
          "height": 484
        },
        "id": "eMxGO0C45vR5",
        "outputId": "3d1e6baf-8bb9-4179-bfd3-d5e721bfcf09"
      },
      "execution_count": 294,
      "outputs": [
        {
          "output_type": "stream",
          "name": "stdout",
          "text": [
            "visited vertices:  {1, 2, 3, 4, 5, 6, 7, 8}\n",
            "All vertices of the graph:  [1, 2, 3, 4, 5, 6, 7, 8]\n"
          ]
        },
        {
          "output_type": "display_data",
          "data": {
            "text/plain": [
              "<Figure size 640x480 with 1 Axes>"
            ],
            "image/png": "[encoded data removed]"
          },
          "metadata": {}
        }
      ]
    },
    {
      "cell_type": "markdown",
      "source": [
        "# SAT SOLVER\n",
        "\n",
        "The setting of the problem to be solved by using SAT starts by imposing some specific constrains.\n",
        "As specified in the paper, the game has a solution if it respects the following property:\n",
        "\n",
        "1.   No crossing lines\n",
        "2.   iff exactly (p−1) of the Boolean variables in X are assigned true\n",
        "3.   no cycles.\n",
        "\n"
      ],
      "metadata": {
        "id": "xUcOS4RDfg9s"
      }
    },
    {
      "cell_type": "markdown",
      "source": [
        "**FIRST CONSTRAINS**"
      ],
      "metadata": {
        "id": "v4se151D1hrS"
      }
    },
    {
      "cell_type": "code",
      "source": [
        "# Method to print the edges for each vertex\n",
        "def get_edges_graph(graph,vertices):\n",
        "  index_keys = graph.get_adjacency_list().keys()\n",
        "  edges=[]\n",
        "  print(index_keys)\n",
        "  for i in index_keys:\n",
        "    linked_nodes = graph.get_adjacency_list().get(i)\n",
        "    for j in range (len(linked_nodes)):\n",
        "      #print(f\"{vertices[i]} ----- {vertices[linked_nodes[j][0]]}\")\n",
        "      edges.append((vertices[i],vertices[linked_nodes[j][0]]))\n",
        "  return edges"
      ],
      "metadata": {
        "id": "6N7Ix-7xrKxy"
      },
      "execution_count": 269,
      "outputs": []
    },
    {
      "cell_type": "markdown",
      "source": [
        "I create an example of graph where there exists a crossing link:"
      ],
      "metadata": {
        "id": "sJu2UH1L9HYU"
      }
    },
    {
      "cell_type": "code",
      "source": [
        "p1 = Point(1,1)\n",
        "p2 = Point (3,1)\n",
        "p3 = Point (3,2)\n",
        "p4 = Point (6,2)\n",
        "p5 = Point (3,6)\n",
        "p6 = Point (2,8)\n",
        "p7 = Point (8,7)\n",
        "p8 = Point (8,2)\n",
        "p9 = Point (2,5)\n",
        "p10 = Point(9,5)\n",
        "points = [p1,p2,p3,p4,p5,p6,p7,p8,p9,p10]\n",
        "print(points)\n",
        "graph,vertices,lines = initialize_graph(points)"
      ],
      "metadata": {
        "colab": {
          "base_uri": "https://localhost:8080/",
          "height": 571
        },
        "id": "JbEVPMSX9FK6",
        "outputId": "d63dea75-48cb-4493-8a04-66374fa04bf9"
      },
      "execution_count": 270,
      "outputs": [
        {
          "output_type": "stream",
          "name": "stdout",
          "text": [
            "[(1,1), (3,1), (3,2), (6,2), (3,6), (2,8), (8,7), (8,2), (2,5), (9,5)]\n",
            "I want to add the edges: ((3,2),(8,2))\n",
            "Horizontal case: 2, first_point (3,2), second_point(6,2).\n",
            "I want to add the edges: ((6,2),(8,2))\n",
            "Horizontal case: 2, first_point (3,2), second_point(6,2).\n",
            "defaultdict(<class 'list'>, {1: [(2, 1)], 2: [(3, 1), (5, 1)], 3: [(4, 1)], 4: [(8, 1)], 6: [(9, 1)], 7: [(8, 1)], 9: [(10, 1)]})\n"
          ]
        },
        {
          "output_type": "display_data",
          "data": {
            "text/plain": [
              "<Figure size 640x480 with 1 Axes>"
            ],
            "image/png": "[encoded data removed]"
          },
          "metadata": {}
        },
        {
          "output_type": "stream",
          "name": "stdout",
          "text": [
            "[(1, 2, 1), (2, 3, 1), (2, 5, 1), (3, 4, 1), (4, 8, 1), (6, 9, 1), (7, 8, 1), (9, 10, 1)]\n"
          ]
        }
      ]
    },
    {
      "cell_type": "code",
      "source": [
        "vertices.items()\n",
        "print(lines.items())"
      ],
      "metadata": {
        "colab": {
          "base_uri": "https://localhost:8080/"
        },
        "id": "RwRSVRg7v5gv",
        "outputId": "ce567d0a-6278-4956-aa01-3e21c02c33fb"
      },
      "execution_count": 271,
      "outputs": [
        {
          "output_type": "stream",
          "name": "stdout",
          "text": [
            "dict_items([(1, ((1,1),(3,1))), (2, ((3,1),(3,2))), (3, ((3,1),(3,6))), (4, ((3,2),(6,2))), (5, ((6,2),(8,2))), (6, ((2,8),(2,5))), (7, ((8,7),(8,2))), (8, ((2,5),(9,5)))])\n"
          ]
        }
      ]
    },
    {
      "cell_type": "code",
      "source": [
        "# We get a crossin lines only when the two lines are one vertical and the other horizontal.\n",
        "# Two vertical lines or two horizontal lines will never cross one each other, of course if they are parallel.\n",
        "# The only thing that can happen in this case, is that the coordinates of a line can be in the middle of the other line when they have the same x or y.\n",
        "# Is it this possible (?)\n",
        "\n",
        "def check_crossing_lines(l1,l2):\n",
        "  # First condition\n",
        "  l1_p1 = l1.get_p1()\n",
        "  l1_p2 = l1.get_p2()\n",
        "  #print(l1_p1,l1_p2)\n",
        "    \n",
        "  l2_p1 = l2.get_p1()\n",
        "  l2_p2 = l2.get_p2()\n",
        "\n",
        "  # So, first we check if l1 is horizontal or vertical.\n",
        "  # HORIZONTAL CASE\n",
        "  if (l1_p1.get_x() == l1_p2.get_x()):\n",
        "    # To be sure to check the coordinates correctly, let's set x1,x2 in such way to have x1 < x2.\n",
        "    if l2_p1.get_x() < l2_p2.get_x():\n",
        "      x1,x2 = l2_p1.get_x(),l2_p2.get_x()\n",
        "    else:\n",
        "      x1,x2 = l2_p2.get_x(),l2_p1.get_x()\n",
        "    # Check that the second line is vertical!\n",
        "    if (l2_p1.get_y() == l2_p2.get_y()):\n",
        "      # Now there can be an intersection of the two lines, let's check the coordinates.\n",
        "      if (l1_p1.get_y()<l1_p2.get_y()):\n",
        "        y1,y2 = l1_p1.get_y(), l1_p2.get_y()\n",
        "      else:\n",
        "        y1,y2 = l1_p2.get_y(),l1_p1.get_y()\n",
        "      return (l1_p1.get_x()  > x1 and l1_p1.get_x()  < x2) and (l2_p1.get_y() > y1 and l2_p1.get_y() < y2)\n",
        "    # Case in which both lines are horizontal\n",
        "    else: \n",
        "      return False \n",
        "    \n",
        "  # VERTICAL CASE\n",
        "  if (l1_p1.get_y()==l1_p2.get_y()):\n",
        "    if l2_p1.get_y() < l2_p2.get_y():\n",
        "      y1,y2 = l2_p1.get_y(),l2_p2.get_y()\n",
        "    else:\n",
        "      y1,y2 = l2_p2.get_y(),l2_p1.get_y()\n",
        "    # Check that the second line is horizontal!\n",
        "    if (l2_p1.get_x() == l2_p2.get_x()):\n",
        "      # Again, check if there is an intersection between two lines. \n",
        "      if (l1_p1.get_x()<l1_p2.get_x()):\n",
        "        x1,x2 =l1_p1.get_x(),l1_p2.get_x()\n",
        "      else:\n",
        "        x1,x2 =l1_p2.get_x(),l1_p1.get_x()\n",
        "      return (l1_p1.get_y() > y1 and l1_p1.get_y() < y2) and ( l2_p1.get_x() > x1 and l2_p1.get_x() < x2 )\n",
        "    else:\n",
        "      return False\n",
        "\n",
        "def get_key(my_dict, val):\n",
        "  for key, value in my_dict.items():\n",
        "      if val == value:\n",
        "          return key\n",
        "  return \"key doesn't exist\"\n",
        "\n",
        "def no_crossing_lines(lines):\n",
        "  cnf = CNF()\n",
        "  for l1 in lines.values():\n",
        "    for l2 in lines.values():\n",
        "      # If check crossing lines, it is not possible to use togheter l1 and l2,\n",
        "      # Therefore we create a clauses which puts in conjunction the negation of l1 and l2.\n",
        "      if check_crossing_lines(l1,l2) == True:\n",
        "        l1_key = get_key(lines,l1)\n",
        "        l2_key = get_key(lines,l2)\n",
        "        print(f\"l1 is: {l1}, l1_key: {l1_key}, l2 is: {l2}, l2_key: {l2_key}\")\n",
        "        cnf.append([-l1_key,-l2_key])\n",
        "  #print(cnf.clauses)\n",
        "  return cnf"
      ],
      "metadata": {
        "id": "Gpq7nOSSyprH"
      },
      "execution_count": 272,
      "outputs": []
    },
    {
      "cell_type": "code",
      "source": [
        "print(lines)"
      ],
      "metadata": {
        "colab": {
          "base_uri": "https://localhost:8080/"
        },
        "id": "dv6KWogi0hiz",
        "outputId": "57243169-30a5-42d7-99ce-19a19dd11bf7"
      },
      "execution_count": 273,
      "outputs": [
        {
          "output_type": "stream",
          "name": "stdout",
          "text": [
            "{1: ((1,1),(3,1)), 2: ((3,1),(3,2)), 3: ((3,1),(3,6)), 4: ((3,2),(6,2)), 5: ((6,2),(8,2)), 6: ((2,8),(2,5)), 7: ((8,7),(8,2)), 8: ((2,5),(9,5))}\n"
          ]
        }
      ]
    },
    {
      "cell_type": "code",
      "source": [
        "no_crossing_lines(lines).clauses"
      ],
      "metadata": {
        "colab": {
          "base_uri": "https://localhost:8080/"
        },
        "id": "jlQU6RpfzlCl",
        "outputId": "bae55d02-648b-4808-d8d4-6e3b02f91679"
      },
      "execution_count": 274,
      "outputs": [
        {
          "output_type": "stream",
          "name": "stdout",
          "text": [
            "l1 is: ((3,1),(3,6)), l1_key: 3, l2 is: ((2,5),(9,5)), l2_key: 8\n",
            "l1 is: ((8,7),(8,2)), l1_key: 7, l2 is: ((2,5),(9,5)), l2_key: 8\n",
            "l1 is: ((2,5),(9,5)), l1_key: 8, l2 is: ((3,1),(3,6)), l2_key: 3\n",
            "l1 is: ((2,5),(9,5)), l1_key: 8, l2 is: ((8,7),(8,2)), l2_key: 7\n"
          ]
        },
        {
          "output_type": "execute_result",
          "data": {
            "text/plain": [
              "[[-3, -8], [-7, -8], [-8, -3], [-8, -7]]"
            ]
          },
          "metadata": {},
          "execution_count": 274
        }
      ]
    },
    {
      "cell_type": "code",
      "source": [
        "print(get_edges_graph(graph,vertices))"
      ],
      "metadata": {
        "colab": {
          "base_uri": "https://localhost:8080/"
        },
        "id": "N5eRXhFNrwCE",
        "outputId": "deff729d-cc4f-4a89-935b-6eb77328ef86"
      },
      "execution_count": 275,
      "outputs": [
        {
          "output_type": "stream",
          "name": "stdout",
          "text": [
            "dict_keys([1, 2, 3, 4, 6, 7, 9])\n",
            "[((1,1), (3,1)), ((3,1), (3,2)), ((3,1), (3,6)), ((3,2), (6,2)), ((6,2), (8,2)), ((2,8), (2,5)), ((8,7), (8,2)), ((2,5), (9,5))]\n"
          ]
        }
      ]
    },
    {
      "cell_type": "markdown",
      "source": [
        "**SECOND CONSTRAINT**\n",
        "\n",
        "To express the constraint \"exactly k lines\" I will use the formula expressed during the lesson for which it is expressed with two constrains of having at list n-k+1 lines and at most +1.\n",
        "\n",
        "In our case, the elements to iterate are agains the keys of lines, for which we have expressed also the previous constraint.\n",
        "n is the number of keys.\n",
        "To express the possible combination I'll use the method combinations of itertools' library.\n",
        "\n"
      ],
      "metadata": {
        "id": "TU0Wastb3BFV"
      }
    },
    {
      "cell_type": "code",
      "source": [
        "import itertools\n",
        "\n",
        "def exactly_k(literal_list,k): \n",
        "  clauses = []\n",
        "  n = len(literal_list)\n",
        "  \n",
        "  # at least k\n",
        "  combs=list(itertools.combinations(literal_list,n-k+1))\n",
        "  for sub_lists in combs:\n",
        "    clauses.append(list(sub_lists))\n",
        "\n",
        "  # at most k\n",
        "  combs = list (itertools.combinations(literal_list,k+1))\n",
        "  for sub_lists in combs:\n",
        "    temp = [-i for i in list(sub_lists)]\n",
        "    clauses.append(temp)\n",
        "  \n",
        "  return clauses"
      ],
      "metadata": {
        "id": "foypJDTy3W29"
      },
      "execution_count": 276,
      "outputs": []
    },
    {
      "cell_type": "code",
      "source": [
        "k = (len(points)-1)\n",
        "exactly_k(lines.keys(),k)"
      ],
      "metadata": {
        "colab": {
          "base_uri": "https://localhost:8080/"
        },
        "id": "D-vqycAq4aeZ",
        "outputId": "4f12a30d-8adf-4921-c311-7212c984c575"
      },
      "execution_count": 277,
      "outputs": [
        {
          "output_type": "execute_result",
          "data": {
            "text/plain": [
              "[[]]"
            ]
          },
          "metadata": {},
          "execution_count": 277
        }
      ]
    },
    {
      "cell_type": "markdown",
      "source": [
        "**Third constraint**\n",
        "\n"
      ],
      "metadata": {
        "id": "r0LOzyEr6gbu"
      }
    },
    {
      "cell_type": "markdown",
      "source": [
        "I create an example to test the third constraint -> a graph with an inner cycle"
      ],
      "metadata": {
        "id": "v7xdnqDsAs9T"
      }
    },
    {
      "cell_type": "code",
      "source": [
        "# A vertex is an tuple of an integer which represents it and a point\n",
        "# vertex v = (1,p1) -> this is what i want.\n",
        "p1 = Point(1,1)\n",
        "p2 = Point (3,1)\n",
        "p3 = Point (3,2)\n",
        "p4 = Point (6,2)\n",
        "p5 = Point (8,2)\n",
        "p6 = Point (1,7)\n",
        "p7 = Point (8,7)\n",
        "p8 = Point (1,9)\n",
        "\n",
        "points = [p1,p2,p3,p4,p5,p6,p7,p8]\n",
        "\n",
        "graph,vertices,lines = initialize_graph(points)\n",
        "\n"
      ],
      "metadata": {
        "id": "_YFg6KhI7V6v",
        "colab": {
          "base_uri": "https://localhost:8080/",
          "height": 553
        },
        "outputId": "98bbf5bc-e510-4844-d53d-1699dd5cbd2e"
      },
      "execution_count": 278,
      "outputs": [
        {
          "output_type": "stream",
          "name": "stdout",
          "text": [
            "I want to add the edges: ((3,2),(8,2))\n",
            "Horizontal case: 2, first_point (3,2), second_point(6,2).\n",
            "I want to add the edges: ((6,2),(8,2))\n",
            "Horizontal case: 2, first_point (3,2), second_point(6,2).\n",
            "defaultdict(<class 'list'>, {1: [(2, 1), (6, 1), (8, 1)], 2: [(3, 1)], 3: [(4, 1)], 4: [(5, 1)], 5: [(7, 1)], 6: [(7, 1)]})\n"
          ]
        },
        {
          "output_type": "display_data",
          "data": {
            "text/plain": [
              "<Figure size 640x480 with 1 Axes>"
            ],
            "image/png": "[encoded data removed]"
          },
          "metadata": {}
        },
        {
          "output_type": "stream",
          "name": "stdout",
          "text": [
            "[(1, 2, 1), (1, 6, 1), (1, 8, 1), (2, 3, 1), (3, 4, 1), (4, 5, 1), (5, 7, 1), (6, 7, 1)]\n"
          ]
        }
      ]
    },
    {
      "cell_type": "code",
      "source": [
        "#lines.items()\n",
        "#vertices.items()\n",
        "lines.items()"
      ],
      "metadata": {
        "colab": {
          "base_uri": "https://localhost:8080/"
        },
        "id": "t5cZt6dCDvB_",
        "outputId": "6a272bad-07c0-4d0a-efa9-e27b8f82e33c"
      },
      "execution_count": 279,
      "outputs": [
        {
          "output_type": "execute_result",
          "data": {
            "text/plain": [
              "dict_items([(1, ((1,1),(3,1))), (2, ((1,1),(1,7))), (3, ((1,1),(1,9))), (4, ((3,1),(3,2))), (5, ((3,2),(6,2))), (6, ((6,2),(8,2))), (7, ((8,2),(8,7))), (8, ((1,7),(8,7)))])"
            ]
          },
          "metadata": {},
          "execution_count": 279
        }
      ]
    },
    {
      "cell_type": "code",
      "source": [
        "def DFS(graph):\n",
        "    visited = set()  # Set to keep track of visited vertices\n",
        "    parent = {}  # Dictionary to store parent vertices during DFS traversal\n",
        "    path = []\n",
        "\n",
        "    def DFS_visit(vertex, parent_vertex):\n",
        "        visited.add(vertex)\n",
        "        for neighbor_data in graph.get_adjacency_list()[vertex]:\n",
        "            neighbor = neighbor_data[0]\n",
        "            \n",
        "            #print(f\"Vertex: {vertex}, neighbor: {neighbor}\")\n",
        "            if neighbor not in visited:\n",
        "                path.append((vertex,neighbor))\n",
        "                parent[neighbor] = vertex\n",
        "                if DFS_visit(neighbor, vertex):  # Recursively visit the neighbor\n",
        "                    return True\n",
        "            elif parent.get(vertex) != neighbor and neighbor != parent_vertex:\n",
        "                # If the neighbor is already visited and it's not the parent of the current vertex,\n",
        "                # then there is a cycle\n",
        "                #print(f\"I'm the vertex: {vertex}, my parent is: {parent.get(vertex)}, my neighbor is: {neighbor}\")\n",
        "                #print(f\"My neighbor {neighbor} has already been visited by {parent.get(neighbor)}, therefore there exists a cycle here!\")\n",
        "                path.append((vertex,neighbor))\n",
        "                return True\n",
        "\n",
        "        return False\n",
        "\n",
        "    # Perform DFS traversal for each unvisited vertex in the graph\n",
        "    for vertex in graph.get_vertices():\n",
        "        #print(f\"Vertex is: {vertices[vertex]}\")\n",
        "        if vertex not in visited:\n",
        "            if DFS_visit(vertex, None):\n",
        "                #print(visited)\n",
        "                #print(path)\n",
        "                return True,path  # If cycle found, return True\n",
        "\n",
        "    return False,path  # No cycle found in the graph\n",
        "\n",
        "\n",
        "def get_key_lines(lines, val):\n",
        "  for key, value in lines.items():\n",
        "      if val.get_p1() == value.get_p1() and val.get_p2() == value.get_p2():\n",
        "          return key\n",
        "  return \"key doesn't exist\"\n",
        "\n",
        "\n",
        "def no_cycles(graph):\n",
        "  # Call DFS method\n",
        "  has_cycle,path = DFS(graph)\n",
        "\n",
        "  clauses = []\n",
        "  # Check if a cycle exists\n",
        "  if has_cycle:\n",
        "    print(\"The graph contains a cycle.\")\n",
        "    for line in path:\n",
        "      p1 = vertices[line[0]]\n",
        "      p2 = vertices[line[1]]\n",
        "      l = Line(p1,p2)\n",
        "      clauses.append(-get_key_lines(lines,l))\n",
        "  print(clauses)\n",
        "  return clauses\n",
        "  #else:\n",
        "  #  print(\"The graph does not contain a cycle.\")"
      ],
      "metadata": {
        "id": "Pkv3-FEEFOcT"
      },
      "execution_count": 280,
      "outputs": []
    },
    {
      "cell_type": "code",
      "source": [
        "no_cycles(graph)"
      ],
      "metadata": {
        "colab": {
          "base_uri": "https://localhost:8080/"
        },
        "id": "hljIkFGvXJdZ",
        "outputId": "bd33fd10-1220-4c80-dd9c-b8a22d6ec6b7"
      },
      "execution_count": 281,
      "outputs": [
        {
          "output_type": "stream",
          "name": "stdout",
          "text": [
            "The graph contains a cycle.\n",
            "[-1, -4, -5, -6, -7, -2, -8]\n"
          ]
        },
        {
          "output_type": "execute_result",
          "data": {
            "text/plain": [
              "[-1, -4, -5, -6, -7, -2, -8]"
            ]
          },
          "metadata": {},
          "execution_count": 281
        }
      ]
    },
    {
      "cell_type": "markdown",
      "source": [
        "**FIRST POINT OF THE PROJECT**\n"
      ],
      "metadata": {
        "id": "1YIO1Nn1BLnk"
      }
    },
    {
      "cell_type": "code",
      "source": [
        "# A vertex is an tuple of an integer which represents it and a point\n",
        "# vertex v = (1,p1) -> this is what i want.\n",
        "p1 = Point(1,1)\n",
        "p2 = Point (3,1)\n",
        "p3 = Point (3,2)\n",
        "p4 = Point (6,2)\n",
        "p5 = Point (8,2)\n",
        "p6 = Point (1,7)\n",
        "p7 = Point (8,7)\n",
        "p8 = Point (1,9)\n",
        "\n",
        "points = [p1,p2,p3,p4,p5,p6,p7,p8]\n",
        "\n",
        "graph,vertices,lines = initialize_graph(points)\n",
        "\n"
      ],
      "metadata": {
        "colab": {
          "base_uri": "https://localhost:8080/",
          "height": 553
        },
        "outputId": "b18c622d-ea0d-4f98-b958-055c3c577d1b",
        "id": "p81S2QE6BPYG"
      },
      "execution_count": 282,
      "outputs": [
        {
          "output_type": "stream",
          "name": "stdout",
          "text": [
            "I want to add the edges: ((3,2),(8,2))\n",
            "Horizontal case: 2, first_point (3,2), second_point(6,2).\n",
            "I want to add the edges: ((6,2),(8,2))\n",
            "Horizontal case: 2, first_point (3,2), second_point(6,2).\n",
            "defaultdict(<class 'list'>, {1: [(2, 1), (6, 1), (8, 1)], 2: [(3, 1)], 3: [(4, 1)], 4: [(5, 1)], 5: [(7, 1)], 6: [(7, 1)]})\n"
          ]
        },
        {
          "output_type": "display_data",
          "data": {
            "text/plain": [
              "<Figure size 640x480 with 1 Axes>"
            ],
            "image/png": "[encoded data removed]"
          },
          "metadata": {}
        },
        {
          "output_type": "stream",
          "name": "stdout",
          "text": [
            "[(1, 2, 1), (1, 6, 1), (1, 8, 1), (2, 3, 1), (3, 4, 1), (4, 5, 1), (5, 7, 1), (6, 7, 1)]\n"
          ]
        }
      ]
    },
    {
      "cell_type": "code",
      "source": [
        "solver = Minisat22()\n",
        "\n",
        "# Call DFS method\n",
        "has_cycle,path = DFS(graph)\n",
        "cnf = CNF()\n",
        "\n",
        "# Addition of the first constraint\n",
        "print(f\"No_crossing_lines: {no_crossing_lines(lines).clauses}\")\n",
        "cnf.extend(no_crossing_lines(lines))\n",
        "k = len(points) - 1\n",
        "print(f\"K is: {k}\")\n",
        "\n",
        "# Addition of the second constraint\n",
        "#print(f\"exactly_k: {exactly_k(lines.keys(),k).clauses}\")\n",
        "cnf.extend(exactly_k(lines.keys(),k))\n",
        "\n",
        "# Addition of the third constraint.\n",
        "if (has_cycle):\n",
        "  cnf.append(no_cycles(graph))\n",
        "  print(f\"Clauses: {cnf.clauses}\")\n",
        "\n",
        "  # SOLUTION\n",
        "  solver.append_formula(cnf)\n",
        "  solution = solver.solve()\n",
        "\n",
        "  if solution:\n",
        "    model = solver.get_model()\n",
        "    model_lines = {x: lines[x] for x in model if x > 0}\n",
        "    print(f\"Model is: {model}\")\n",
        "    print(f\"Model_lines: {model_lines}\")\n",
        "    plot_graph(points,model_lines)\n",
        "  else:\n",
        "    print(\"No solution\")\n",
        "else:\n",
        "  print(\"No solution\")"
      ],
      "metadata": {
        "colab": {
          "base_uri": "https://localhost:8080/",
          "height": 591
        },
        "id": "twk3ADF-AyRA",
        "outputId": "72dc2001-3706-4305-fbe1-0eb2b036d1fe"
      },
      "execution_count": 283,
      "outputs": [
        {
          "output_type": "stream",
          "name": "stdout",
          "text": [
            "No_crossing_lines: []\n",
            "K is: 7\n",
            "The graph contains a cycle.\n",
            "[-1, -4, -5, -6, -7, -2, -8]\n",
            "Clauses: [[1, 2], [1, 3], [1, 4], [1, 5], [1, 6], [1, 7], [1, 8], [2, 3], [2, 4], [2, 5], [2, 6], [2, 7], [2, 8], [3, 4], [3, 5], [3, 6], [3, 7], [3, 8], [4, 5], [4, 6], [4, 7], [4, 8], [5, 6], [5, 7], [5, 8], [6, 7], [6, 8], [7, 8], [-1, -2, -3, -4, -5, -6, -7, -8], [-1, -4, -5, -6, -7, -2, -8]]\n",
            "Model is: [1, 2, 3, 4, 5, 6, 7, -8]\n",
            "Model_lines: {1: ((1,1),(3,1)), 2: ((1,1),(1,7)), 3: ((1,1),(1,9)), 4: ((3,1),(3,2)), 5: ((3,2),(6,2)), 6: ((6,2),(8,2)), 7: ((8,2),(8,7))}\n"
          ]
        },
        {
          "output_type": "display_data",
          "data": {
            "text/plain": [
              "<Figure size 640x480 with 1 Axes>"
            ],
            "image/png": "[encoded data removed]"
          },
          "metadata": {}
        }
      ]
    }
  ]
}